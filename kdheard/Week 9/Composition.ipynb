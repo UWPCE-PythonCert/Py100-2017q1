{
 "cells": [
  {
   "cell_type": "code",
   "execution_count": 3,
   "metadata": {
    "collapsed": false
   },
   "outputs": [],
   "source": [
    "class Other(object):\n",
    "    \n",
    "    def __init__(self):\n",
    "        print(\"In Other __init__()\")\n",
    "        \n",
    "class MyComposedClass(object):\n",
    "    \n",
    "    def __init__(self):\n",
    "        self.other = Other()  #Contains Other"
   ]
  },
  {
   "cell_type": "code",
   "execution_count": 4,
   "metadata": {
    "collapsed": false
   },
   "outputs": [
    {
     "name": "stdout",
     "output_type": "stream",
     "text": [
      "In Other __init__()\n"
     ]
    }
   ],
   "source": [
    "my_composed_class = MyComposedClass()"
   ]
  },
  {
   "cell_type": "code",
   "execution_count": 5,
   "metadata": {
    "collapsed": false
   },
   "outputs": [
    {
     "data": {
      "text/plain": [
       "['__class__',\n",
       " '__delattr__',\n",
       " '__dict__',\n",
       " '__dir__',\n",
       " '__doc__',\n",
       " '__eq__',\n",
       " '__format__',\n",
       " '__ge__',\n",
       " '__getattribute__',\n",
       " '__gt__',\n",
       " '__hash__',\n",
       " '__init__',\n",
       " '__le__',\n",
       " '__lt__',\n",
       " '__module__',\n",
       " '__ne__',\n",
       " '__new__',\n",
       " '__reduce__',\n",
       " '__reduce_ex__',\n",
       " '__repr__',\n",
       " '__setattr__',\n",
       " '__sizeof__',\n",
       " '__str__',\n",
       " '__subclasshook__',\n",
       " '__weakref__',\n",
       " 'other']"
      ]
     },
     "execution_count": 5,
     "metadata": {},
     "output_type": "execute_result"
    }
   ],
   "source": [
    "dir(my_composed_class)"
   ]
  },
  {
   "cell_type": "code",
   "execution_count": 7,
   "metadata": {
    "collapsed": true
   },
   "outputs": [],
   "source": [
    "class Other(object):\n",
    "    \n",
    "    def __init__(self):\n",
    "        print(\"In Other __init__()\")\n",
    "        \n",
    "    def override(self):\n",
    "        print(\"Other override()\")\n",
    "        \n",
    "    def implicit(self):\n",
    "        print(\"Other implicit()\")\n",
    "        \n",
    "    def altered(self):\n",
    "        print(\"Other altered()\")\n",
    "        \n",
    "class MyComposedClass(object):\n",
    "    \n",
    "    def __init__(self):\n",
    "        self.other = Other()  #Contains Other\n",
    "        \n",
    "    def implicit(self):\n",
    "        '''I do nothing myself, I delegate'''\n",
    "        self.other.implicit()"
   ]
  },
  {
   "cell_type": "code",
   "execution_count": 8,
   "metadata": {
    "collapsed": false
   },
   "outputs": [
    {
     "name": "stdout",
     "output_type": "stream",
     "text": [
      "In Other __init__()\n"
     ]
    }
   ],
   "source": [
    "my_composed_class = MyComposedClass()"
   ]
  },
  {
   "cell_type": "code",
   "execution_count": 9,
   "metadata": {
    "collapsed": false
   },
   "outputs": [
    {
     "name": "stdout",
     "output_type": "stream",
     "text": [
      "Other implicit()\n"
     ]
    }
   ],
   "source": [
    "my_composed_class.implicit()"
   ]
  },
  {
   "cell_type": "code",
   "execution_count": 25,
   "metadata": {
    "collapsed": true
   },
   "outputs": [],
   "source": [
    "class Other(object):\n",
    "    \n",
    "    def __init__(self):\n",
    "        print(\"In Other __init__()\")\n",
    "        \n",
    "    def override(self):\n",
    "        print(\"Other override()\")\n",
    "        \n",
    "    def implicit(self):\n",
    "        print(\"Other implicit()\")\n",
    "        \n",
    "    def altered(self):\n",
    "        print(\"Other altered()\")\n",
    "        \n",
    "class MyComposedClass(object):\n",
    "    \n",
    "    def __init__(self):\n",
    "        self.other = Other()  #Contains Other\n",
    "        \n",
    "    def override(self):\n",
    "        print(\"MyComposedClass override()\")\n",
    "        \n",
    "    def implicit(self):\n",
    "        '''I do nothing myself, I delegate'''\n",
    "        self.other.implicit()\n",
    "        \n",
    "    def altered(self):\n",
    "        \"\"\"I do some work myself and also delegate\"\"\"\n",
    "        print(\"MyComposedClass, BEFORE OTHER altered()\")\n",
    "        self.other.altered()\n",
    "        print(\"blarg\")"
   ]
  },
  {
   "cell_type": "code",
   "execution_count": 26,
   "metadata": {
    "collapsed": false
   },
   "outputs": [
    {
     "name": "stdout",
     "output_type": "stream",
     "text": [
      "In Other __init__()\n"
     ]
    }
   ],
   "source": [
    "my_composed_class = MyComposedClass()"
   ]
  },
  {
   "cell_type": "code",
   "execution_count": 21,
   "metadata": {
    "collapsed": false
   },
   "outputs": [
    {
     "name": "stdout",
     "output_type": "stream",
     "text": [
      "MyComposedClass override()\n"
     ]
    }
   ],
   "source": [
    "my_composed_class.override()"
   ]
  },
  {
   "cell_type": "code",
   "execution_count": 27,
   "metadata": {
    "collapsed": false
   },
   "outputs": [
    {
     "name": "stdout",
     "output_type": "stream",
     "text": [
      "MyComposedClass, BEFORE OTHER altered()\n",
      "Other altered()\n",
      "blarg\n"
     ]
    }
   ],
   "source": [
    "my_composed_class.altered()"
   ]
  },
  {
   "cell_type": "code",
   "execution_count": null,
   "metadata": {
    "collapsed": true
   },
   "outputs": [],
   "source": []
  }
 ],
 "metadata": {
  "kernelspec": {
   "display_name": "Python 3",
   "language": "python",
   "name": "python3"
  },
  "language_info": {
   "codemirror_mode": {
    "name": "ipython",
    "version": 3
   },
   "file_extension": ".py",
   "mimetype": "text/x-python",
   "name": "python",
   "nbconvert_exporter": "python",
   "pygments_lexer": "ipython3",
   "version": "3.4.3"
  }
 },
 "nbformat": 4,
 "nbformat_minor": 2
}
