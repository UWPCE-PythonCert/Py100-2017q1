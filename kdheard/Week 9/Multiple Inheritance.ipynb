{
 "cells": [
  {
   "cell_type": "code",
   "execution_count": 1,
   "metadata": {
    "collapsed": true
   },
   "outputs": [],
   "source": [
    "class DoughFactory(object):\n",
    "    def get_dough(self):\n",
    "        return \"insecticide treated wheat dough\""
   ]
  },
  {
   "cell_type": "code",
   "execution_count": 2,
   "metadata": {
    "collapsed": true
   },
   "outputs": [],
   "source": [
    "class Pizza(DoughFactory):\n",
    "    def order_pizza(self, *toppings):\n",
    "        print(\"Getting dough\")"
   ]
  },
  {
   "cell_type": "code",
   "execution_count": 3,
   "metadata": {
    "collapsed": true
   },
   "outputs": [],
   "source": [
    "my_pizza = Pizza()"
   ]
  },
  {
   "cell_type": "code",
   "execution_count": 5,
   "metadata": {
    "collapsed": false
   },
   "outputs": [
    {
     "name": "stdout",
     "output_type": "stream",
     "text": [
      "Help on class Pizza in module __main__:\n",
      "\n",
      "class Pizza(DoughFactory)\n",
      " |  Method resolution order:\n",
      " |      Pizza\n",
      " |      DoughFactory\n",
      " |      builtins.object\n",
      " |  \n",
      " |  Methods defined here:\n",
      " |  \n",
      " |  order_pizza(self, *toppings)\n",
      " |  \n",
      " |  ----------------------------------------------------------------------\n",
      " |  Methods inherited from DoughFactory:\n",
      " |  \n",
      " |  get_dough(self)\n",
      " |  \n",
      " |  ----------------------------------------------------------------------\n",
      " |  Data descriptors inherited from DoughFactory:\n",
      " |  \n",
      " |  __dict__\n",
      " |      dictionary for instance variables (if defined)\n",
      " |  \n",
      " |  __weakref__\n",
      " |      list of weak references to the object (if defined)\n",
      "\n"
     ]
    }
   ],
   "source": [
    "help(Pizza)"
   ]
  },
  {
   "cell_type": "code",
   "execution_count": 7,
   "metadata": {
    "collapsed": false
   },
   "outputs": [
    {
     "name": "stdout",
     "output_type": "stream",
     "text": [
      "Getting dough\n"
     ]
    }
   ],
   "source": [
    "my_pizza.order_pizza(\"pepperoni\", \"cat\")"
   ]
  },
  {
   "cell_type": "code",
   "execution_count": 12,
   "metadata": {
    "collapsed": false
   },
   "outputs": [],
   "source": [
    "class DoughFactory(object):\n",
    "    def get_dough(self):\n",
    "        return \"insecticide treated wheat dough\"\n",
    "    \n",
    "class Pizza(DoughFactory):\n",
    "    def order_pizza(self, *toppings):\n",
    "        print(\"Getting dough\")\n",
    "        \n",
    "        dough = DoughFactory.get_dough(self)\n",
    "        \n",
    "        for topping in toppings:\n",
    "            print(\"Making pizza with {}\".format(topping))"
   ]
  },
  {
   "cell_type": "code",
   "execution_count": 14,
   "metadata": {
    "collapsed": false
   },
   "outputs": [],
   "source": [
    "my_pizza = Pizza()"
   ]
  },
  {
   "cell_type": "code",
   "execution_count": 15,
   "metadata": {
    "collapsed": false
   },
   "outputs": [
    {
     "name": "stdout",
     "output_type": "stream",
     "text": [
      "Getting dough\n",
      "Making pizza with pepperoni\n",
      "Making pizza with cat\n"
     ]
    }
   ],
   "source": [
    "my_pizza.order_pizza(\"pepperoni\", \"cat\")"
   ]
  },
  {
   "cell_type": "code",
   "execution_count": 26,
   "metadata": {
    "collapsed": true
   },
   "outputs": [],
   "source": [
    "class DoughFactory(object):\n",
    "    def get_dough(self):\n",
    "        return \"insecticide treated wheat dough\"\n",
    "    \n",
    "class Pizza(DoughFactory):\n",
    "    def order_pizza(self, *toppings):\n",
    "        print(\"Getting dough\")\n",
    "        \n",
    "        dough = super().get_dough()\n",
    "        \n",
    "        for topping in toppings:\n",
    "            print(\"Making pizza with {}\".format(topping))"
   ]
  },
  {
   "cell_type": "code",
   "execution_count": 27,
   "metadata": {
    "collapsed": true
   },
   "outputs": [],
   "source": [
    "my_pizza = Pizza()"
   ]
  },
  {
   "cell_type": "code",
   "execution_count": 28,
   "metadata": {
    "collapsed": false
   },
   "outputs": [
    {
     "name": "stdout",
     "output_type": "stream",
     "text": [
      "Getting dough\n",
      "Making pizza with pepperoni\n",
      "Making pizza with cat\n"
     ]
    }
   ],
   "source": [
    "my_pizza.order_pizza(\"pepperoni\", \"cat\")"
   ]
  },
  {
   "cell_type": "code",
   "execution_count": 30,
   "metadata": {
    "collapsed": true
   },
   "outputs": [],
   "source": [
    "class DoughFactory(object):\n",
    "    def get_dough(self):\n",
    "        return \"insecticide treated wheat dough\"\n",
    "    \n",
    "class Pizza(DoughFactory):\n",
    "    def order_pizza(self, *toppings):\n",
    "        print(\"Getting dough\")\n",
    "        \n",
    "        dough = super().get_dough()\n",
    "        \n",
    "        for topping in toppings:\n",
    "            print(\"Making pizza with {}\".format(topping))\n",
    "\n",
    "class OrganicDoughFactory(DoughFactory):\n",
    "    def get_dough(self):\n",
    "        return \"Organic untreated dough\"\n",
    "    \n",
    "class OrganicPizza(Pizza, OrganicDoughFactory):\n",
    "    pass"
   ]
  },
  {
   "cell_type": "code",
   "execution_count": 31,
   "metadata": {
    "collapsed": true
   },
   "outputs": [],
   "source": [
    "my_organic_pizza = OrganicPizza()"
   ]
  },
  {
   "cell_type": "code",
   "execution_count": 32,
   "metadata": {
    "collapsed": false
   },
   "outputs": [
    {
     "name": "stdout",
     "output_type": "stream",
     "text": [
      "Getting dough\n",
      "Making pizza with onions\n",
      "Making pizza with bananas\n"
     ]
    }
   ],
   "source": [
    "my_organic_pizza.order_pizza(\"onions\", \"bananas\")"
   ]
  },
  {
   "cell_type": "code",
   "execution_count": null,
   "metadata": {
    "collapsed": true
   },
   "outputs": [],
   "source": []
  }
 ],
 "metadata": {
  "kernelspec": {
   "display_name": "Python 3",
   "language": "python",
   "name": "python3"
  },
  "language_info": {
   "codemirror_mode": {
    "name": "ipython",
    "version": 3
   },
   "file_extension": ".py",
   "mimetype": "text/x-python",
   "name": "python",
   "nbconvert_exporter": "python",
   "pygments_lexer": "ipython3",
   "version": "3.4.3"
  }
 },
 "nbformat": 4,
 "nbformat_minor": 2
}
