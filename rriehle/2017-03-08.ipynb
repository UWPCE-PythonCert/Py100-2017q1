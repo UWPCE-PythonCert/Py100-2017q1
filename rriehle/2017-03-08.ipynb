{
 "cells": [
  {
   "cell_type": "markdown",
   "metadata": {},
   "source": [
    "# Static and Class methods"
   ]
  },
  {
   "cell_type": "code",
   "execution_count": 20,
   "metadata": {
    "collapsed": false
   },
   "outputs": [],
   "source": [
    "from math import pi\n",
    "\n",
    "class Circle(object):\n",
    "    \n",
    "    def __init__(self):\n",
    "        pass\n",
    "    \n",
    "    @staticmethod\n",
    "    def raidus_to_area(radius):\n",
    "        return pi * radius ** 2\n",
    "    \n",
    "    @classmethod\n",
    "    def my_class_method(cls):\n",
    "        pass"
   ]
  },
  {
   "cell_type": "code",
   "execution_count": 21,
   "metadata": {
    "collapsed": false
   },
   "outputs": [
    {
     "data": {
      "text/plain": [
       "3.141592653589793"
      ]
     },
     "execution_count": 21,
     "metadata": {},
     "output_type": "execute_result"
    }
   ],
   "source": [
    "Circle.raidus_to_area(1)"
   ]
  },
  {
   "cell_type": "code",
   "execution_count": 19,
   "metadata": {
    "collapsed": false
   },
   "outputs": [],
   "source": [
    "Circle.my_class_method()"
   ]
  },
  {
   "cell_type": "markdown",
   "metadata": {},
   "source": [
    "###  How different is the Circle class from the 'object' root class?"
   ]
  },
  {
   "cell_type": "code",
   "execution_count": 22,
   "metadata": {
    "collapsed": false
   },
   "outputs": [
    {
     "data": {
      "text/plain": [
       "['__class__',\n",
       " '__delattr__',\n",
       " '__dict__',\n",
       " '__dir__',\n",
       " '__doc__',\n",
       " '__eq__',\n",
       " '__format__',\n",
       " '__ge__',\n",
       " '__getattribute__',\n",
       " '__gt__',\n",
       " '__hash__',\n",
       " '__init__',\n",
       " '__le__',\n",
       " '__lt__',\n",
       " '__module__',\n",
       " '__ne__',\n",
       " '__new__',\n",
       " '__reduce__',\n",
       " '__reduce_ex__',\n",
       " '__repr__',\n",
       " '__setattr__',\n",
       " '__sizeof__',\n",
       " '__str__',\n",
       " '__subclasshook__',\n",
       " '__weakref__',\n",
       " 'my_class_method',\n",
       " 'raidus_to_area']"
      ]
     },
     "execution_count": 22,
     "metadata": {},
     "output_type": "execute_result"
    }
   ],
   "source": [
    "dir(Circle)"
   ]
  },
  {
   "cell_type": "code",
   "execution_count": 23,
   "metadata": {
    "collapsed": false
   },
   "outputs": [
    {
     "data": {
      "text/plain": [
       "['__class__',\n",
       " '__delattr__',\n",
       " '__dir__',\n",
       " '__doc__',\n",
       " '__eq__',\n",
       " '__format__',\n",
       " '__ge__',\n",
       " '__getattribute__',\n",
       " '__gt__',\n",
       " '__hash__',\n",
       " '__init__',\n",
       " '__le__',\n",
       " '__lt__',\n",
       " '__ne__',\n",
       " '__new__',\n",
       " '__reduce__',\n",
       " '__reduce_ex__',\n",
       " '__repr__',\n",
       " '__setattr__',\n",
       " '__sizeof__',\n",
       " '__str__',\n",
       " '__subclasshook__']"
      ]
     },
     "execution_count": 23,
     "metadata": {},
     "output_type": "execute_result"
    }
   ],
   "source": [
    "dir(object)"
   ]
  },
  {
   "cell_type": "markdown",
   "metadata": {},
   "source": [
    "###  And then what does an actual instantiated instance of Circle offer?"
   ]
  },
  {
   "cell_type": "code",
   "execution_count": 24,
   "metadata": {
    "collapsed": true
   },
   "outputs": [],
   "source": [
    "my_circle = Circle()"
   ]
  },
  {
   "cell_type": "code",
   "execution_count": 25,
   "metadata": {
    "collapsed": false
   },
   "outputs": [
    {
     "data": {
      "text/plain": [
       "['__class__',\n",
       " '__delattr__',\n",
       " '__dict__',\n",
       " '__dir__',\n",
       " '__doc__',\n",
       " '__eq__',\n",
       " '__format__',\n",
       " '__ge__',\n",
       " '__getattribute__',\n",
       " '__gt__',\n",
       " '__hash__',\n",
       " '__init__',\n",
       " '__le__',\n",
       " '__lt__',\n",
       " '__module__',\n",
       " '__ne__',\n",
       " '__new__',\n",
       " '__reduce__',\n",
       " '__reduce_ex__',\n",
       " '__repr__',\n",
       " '__setattr__',\n",
       " '__sizeof__',\n",
       " '__str__',\n",
       " '__subclasshook__',\n",
       " '__weakref__',\n",
       " 'my_class_method',\n",
       " 'raidus_to_area']"
      ]
     },
     "execution_count": 25,
     "metadata": {},
     "output_type": "execute_result"
    }
   ],
   "source": [
    "dir(my_circle)"
   ]
  },
  {
   "cell_type": "markdown",
   "metadata": {},
   "source": [
    "###  Our first attempt at an @classmethod alternate constructor establishing the state of the instance attributes"
   ]
  },
  {
   "cell_type": "code",
   "execution_count": 28,
   "metadata": {
    "collapsed": true
   },
   "outputs": [],
   "source": [
    "from math import pi\n",
    "\n",
    "class Circle(object):\n",
    "    \n",
    "    def __init__(self, radius):\n",
    "        self.radius = radius\n",
    "        self.diameter = radius * 2\n",
    "        pass\n",
    "    \n",
    "    @staticmethod\n",
    "    def raidus_to_area(radius):\n",
    "        return pi * radius ** 2\n",
    "    \n",
    "    @classmethod\n",
    "    def from_diameter(cls, diameter):\n",
    "        cls.diameter = diameter\n",
    "        cls.radius = diameter / 2"
   ]
  },
  {
   "cell_type": "code",
   "execution_count": 29,
   "metadata": {
    "collapsed": true
   },
   "outputs": [],
   "source": [
    "my_circle_from_standard_init = Circle(2)"
   ]
  },
  {
   "cell_type": "code",
   "execution_count": 30,
   "metadata": {
    "collapsed": false
   },
   "outputs": [
    {
     "data": {
      "text/plain": [
       "2"
      ]
     },
     "execution_count": 30,
     "metadata": {},
     "output_type": "execute_result"
    }
   ],
   "source": [
    "my_circle_from_standard_init.radius"
   ]
  },
  {
   "cell_type": "code",
   "execution_count": 31,
   "metadata": {
    "collapsed": true
   },
   "outputs": [],
   "source": [
    "my_circle_from_alternate_init = Circle.from_diameter(12)"
   ]
  },
  {
   "cell_type": "code",
   "execution_count": 32,
   "metadata": {
    "collapsed": false
   },
   "outputs": [
    {
     "data": {
      "text/plain": [
       "['__bool__',\n",
       " '__class__',\n",
       " '__delattr__',\n",
       " '__dir__',\n",
       " '__doc__',\n",
       " '__eq__',\n",
       " '__format__',\n",
       " '__ge__',\n",
       " '__getattribute__',\n",
       " '__gt__',\n",
       " '__hash__',\n",
       " '__init__',\n",
       " '__le__',\n",
       " '__lt__',\n",
       " '__ne__',\n",
       " '__new__',\n",
       " '__reduce__',\n",
       " '__reduce_ex__',\n",
       " '__repr__',\n",
       " '__setattr__',\n",
       " '__sizeof__',\n",
       " '__str__',\n",
       " '__subclasshook__']"
      ]
     },
     "execution_count": 32,
     "metadata": {},
     "output_type": "execute_result"
    }
   ],
   "source": [
    "dir(my_circle_from_alternate_init)"
   ]
  },
  {
   "cell_type": "code",
   "execution_count": 33,
   "metadata": {
    "collapsed": false
   },
   "outputs": [
    {
     "data": {
      "text/plain": [
       "['__class__',\n",
       " '__delattr__',\n",
       " '__dict__',\n",
       " '__dir__',\n",
       " '__doc__',\n",
       " '__eq__',\n",
       " '__format__',\n",
       " '__ge__',\n",
       " '__getattribute__',\n",
       " '__gt__',\n",
       " '__hash__',\n",
       " '__init__',\n",
       " '__le__',\n",
       " '__lt__',\n",
       " '__module__',\n",
       " '__ne__',\n",
       " '__new__',\n",
       " '__reduce__',\n",
       " '__reduce_ex__',\n",
       " '__repr__',\n",
       " '__setattr__',\n",
       " '__sizeof__',\n",
       " '__str__',\n",
       " '__subclasshook__',\n",
       " '__weakref__',\n",
       " 'diameter',\n",
       " 'from_diameter',\n",
       " 'radius',\n",
       " 'raidus_to_area']"
      ]
     },
     "execution_count": 33,
     "metadata": {},
     "output_type": "execute_result"
    }
   ],
   "source": [
    "dir(Circle)"
   ]
  },
  {
   "cell_type": "markdown",
   "metadata": {},
   "source": [
    "### Class attributes as distinct from instance attributes"
   ]
  },
  {
   "cell_type": "code",
   "execution_count": 2,
   "metadata": {
    "collapsed": true
   },
   "outputs": [],
   "source": [
    "from math import pi\n",
    "\n",
    "class Circle(object):\n",
    "    my_first_class_attribute = \"first\"\n",
    "    my_second_class_attribute = \"second\"\n",
    "    \n",
    "    def __init__(self, radius):\n",
    "        self.radius = radius\n",
    "        self.diameter = radius * 2\n",
    "        pass\n",
    "    \n",
    "    @staticmethod\n",
    "    def raidus_to_area(radius):\n",
    "        return pi * radius ** 2\n",
    "    \n",
    "    @classmethod\n",
    "    def from_diameter(cls, diameter):\n",
    "        cls.diameter = diameter\n",
    "        cls.radius = diameter / 2"
   ]
  },
  {
   "cell_type": "markdown",
   "metadata": {},
   "source": [
    "I would encourage you to reasearch python class attributes on your own to understand more of how and when you might use them"
   ]
  },
  {
   "cell_type": "code",
   "execution_count": 9,
   "metadata": {
    "collapsed": false,
    "scrolled": true
   },
   "outputs": [
    {
     "data": {
      "text/plain": [
       "mappingproxy({'__dict__': <attribute '__dict__' of 'Circle' objects>,\n",
       "              '__doc__': None,\n",
       "              '__init__': <function __main__.Circle.__init__>,\n",
       "              '__module__': '__main__',\n",
       "              '__weakref__': <attribute '__weakref__' of 'Circle' objects>,\n",
       "              'diameter': 22,\n",
       "              'from_diameter': <classmethod at 0x110ef8630>,\n",
       "              'my_first_class_attribute': 'first',\n",
       "              'my_second_class_attribute': 'second',\n",
       "              'radius': 11.0,\n",
       "              'raidus_to_area': <staticmethod at 0x110ef8588>})"
      ]
     },
     "execution_count": 9,
     "metadata": {},
     "output_type": "execute_result"
    }
   ],
   "source": [
    "Circle.__dict__"
   ]
  },
  {
   "cell_type": "markdown",
   "metadata": {},
   "source": [
    "### Filling out our circle class"
   ]
  },
  {
   "cell_type": "code",
   "execution_count": 10,
   "metadata": {
    "collapsed": false
   },
   "outputs": [],
   "source": [
    "from math import pi, sqrt\n",
    "\n",
    "class Circle(object):\n",
    "    \n",
    "    def __init__(self, radius):\n",
    "        \n",
    "        # Changed self.radius to self._radius to facilitate the properties\n",
    "        self._radius = radius\n",
    "        \n",
    "        # Drop self.diameter because we can always calculate it from radius.\n",
    "        # Same holds for area.\n",
    "        # General rule of thumb: the less state to manage, the better.\n",
    "        # self.diameter = radius * 2\n",
    "    \n",
    "    @staticmethod\n",
    "    def raidus_to_area(radius):\n",
    "        return pi * radius ** 2\n",
    "\n",
    "    @classmethod\n",
    "    def from_diameter(cls, diameter):\n",
    "        return cls(diameter/2)\n",
    "\n",
    "    # Added an second alternate constructor\n",
    "    @classmethod  \n",
    "    def from_area(cls, area):\n",
    "        return cls(sqrt(area/pi))\n",
    "    \n",
    "#  All this is wrong... Wooooo!  Blame Canada\n",
    "#        self.radius = cls(diameter/2)\n",
    "#        Circle.__init__(diameter)\n",
    "#        cls.Circle.diameter = diameter\n",
    "#        cls.radius = diameter / 2\n",
    "\n",
    "    # Radius setter/getter\n",
    "    @property\n",
    "    def radius(self):\n",
    "        return self._radius\n",
    "    \n",
    "    @radius.setter\n",
    "    def radius(self, radius):\n",
    "        self._radius = radius\n",
    "        \n",
    "    # Diameter setter/getter\n",
    "    @property\n",
    "    def diameter(self):\n",
    "        return self._radius * 2\n",
    "    \n",
    "    @diameter.setter\n",
    "    def diameter(self, diameter):\n",
    "        self._radius = diameter / 2"
   ]
  },
  {
   "cell_type": "code",
   "execution_count": 11,
   "metadata": {
    "collapsed": false
   },
   "outputs": [],
   "source": [
    "yet_another_circle = Circle(pi)"
   ]
  },
  {
   "cell_type": "code",
   "execution_count": 12,
   "metadata": {
    "collapsed": false
   },
   "outputs": [
    {
     "data": {
      "text/plain": [
       "3.141592653589793"
      ]
     },
     "execution_count": 12,
     "metadata": {},
     "output_type": "execute_result"
    }
   ],
   "source": [
    "yet_another_circle.radius"
   ]
  },
  {
   "cell_type": "code",
   "execution_count": 13,
   "metadata": {
    "collapsed": false
   },
   "outputs": [
    {
     "data": {
      "text/plain": [
       "6.283185307179586"
      ]
     },
     "execution_count": 13,
     "metadata": {},
     "output_type": "execute_result"
    }
   ],
   "source": [
    "yet_another_circle.diameter"
   ]
  },
  {
   "cell_type": "code",
   "execution_count": 14,
   "metadata": {
    "collapsed": false
   },
   "outputs": [],
   "source": [
    "yet_another_circle.diameter = 2"
   ]
  },
  {
   "cell_type": "code",
   "execution_count": 15,
   "metadata": {
    "collapsed": false
   },
   "outputs": [
    {
     "data": {
      "text/plain": [
       "1.0"
      ]
     },
     "execution_count": 15,
     "metadata": {},
     "output_type": "execute_result"
    }
   ],
   "source": [
    "yet_another_circle.radius"
   ]
  },
  {
   "cell_type": "markdown",
   "metadata": {},
   "source": [
    "# Multiple Inheritance"
   ]
  },
  {
   "cell_type": "markdown",
   "metadata": {},
   "source": [
    "From Hettinger's Super() considered Super!"
   ]
  },
  {
   "cell_type": "code",
   "execution_count": 93,
   "metadata": {
    "collapsed": true
   },
   "outputs": [],
   "source": [
    "class DoughFactory(object):\n",
    "\n",
    "    def get_dough(self):\n",
    "        return \"insecticide treated wheat dough\"\n"
   ]
  },
  {
   "cell_type": "code",
   "execution_count": 101,
   "metadata": {
    "collapsed": true
   },
   "outputs": [],
   "source": [
    "class Pizza(DoughFactory):\n",
    "\n",
    "    def order_pizza(self, *toppings):\n",
    "        print(\"Getting dough\")\n",
    "\n",
    "        dough = DoughFactory.get_dough(self)\n",
    "        \n",
    "        print(\"Making pizza with {}\".format(dough))\n",
    "        \n",
    "        for topping in toppings:\n",
    "            print(\"Adding {}\".format(topping))"
   ]
  },
  {
   "cell_type": "code",
   "execution_count": 102,
   "metadata": {
    "collapsed": true
   },
   "outputs": [],
   "source": [
    "my_pizza = Pizza()"
   ]
  },
  {
   "cell_type": "code",
   "execution_count": 103,
   "metadata": {
    "collapsed": false
   },
   "outputs": [
    {
     "name": "stdout",
     "output_type": "stream",
     "text": [
      "Getting dough\n",
      "Making pizza with insecticide treated wheat dough\n",
      "Adding pepperoni\n",
      "Adding cats\n"
     ]
    }
   ],
   "source": [
    "my_pizza.order_pizza(\"pepperoni\", \"cats\")"
   ]
  },
  {
   "cell_type": "code",
   "execution_count": 107,
   "metadata": {
    "collapsed": true
   },
   "outputs": [],
   "source": [
    "class Pizza(DoughFactory):\n",
    "\n",
    "    def order_pizza(self, *toppings):\n",
    "        print(\"Getting dough\")\n",
    "\n",
    "        dough = super().get_dough()\n",
    "        \n",
    "        print(\"Making pizza with {}\".format(dough))\n",
    "        \n",
    "        for topping in toppings:\n",
    "            print(\"Adding {}\".format(topping))"
   ]
  },
  {
   "cell_type": "code",
   "execution_count": 108,
   "metadata": {
    "collapsed": true
   },
   "outputs": [],
   "source": [
    "my_pizza = Pizza()"
   ]
  },
  {
   "cell_type": "code",
   "execution_count": 109,
   "metadata": {
    "collapsed": false
   },
   "outputs": [
    {
     "name": "stdout",
     "output_type": "stream",
     "text": [
      "Getting dough\n",
      "Making pizza with insecticide treated wheat dough\n",
      "Adding pepperoni\n",
      "Adding cats\n"
     ]
    }
   ],
   "source": [
    "my_pizza.order_pizza(\"pepperoni\", \"cats\")"
   ]
  },
  {
   "cell_type": "code",
   "execution_count": 110,
   "metadata": {
    "collapsed": true
   },
   "outputs": [],
   "source": [
    "class OrganicDoughFactory(DoughFactory):\n",
    "    def get_dough(self):\n",
    "        return \"organic, untreated dough\""
   ]
  },
  {
   "cell_type": "code",
   "execution_count": 111,
   "metadata": {
    "collapsed": true
   },
   "outputs": [],
   "source": [
    "class OrganicPizza(Pizza, OrganicDoughFactory):\n",
    "    pass"
   ]
  },
  {
   "cell_type": "code",
   "execution_count": 112,
   "metadata": {
    "collapsed": true
   },
   "outputs": [],
   "source": [
    "my_organic_pizza = OrganicPizza()"
   ]
  },
  {
   "cell_type": "code",
   "execution_count": 113,
   "metadata": {
    "collapsed": false
   },
   "outputs": [
    {
     "name": "stdout",
     "output_type": "stream",
     "text": [
      "Getting dough\n",
      "Making pizza with organic, untreated dough\n",
      "Adding onions\n",
      "Adding bannas\n"
     ]
    }
   ],
   "source": [
    "my_organic_pizza.order_pizza(\"onions\", \"bannas\")"
   ]
  },
  {
   "cell_type": "code",
   "execution_count": 114,
   "metadata": {
    "collapsed": false
   },
   "outputs": [
    {
     "name": "stdout",
     "output_type": "stream",
     "text": [
      "Help on OrganicPizza in module __main__ object:\n",
      "\n",
      "class OrganicPizza(Pizza, OrganicDoughFactory)\n",
      " |  Method resolution order:\n",
      " |      OrganicPizza\n",
      " |      Pizza\n",
      " |      OrganicDoughFactory\n",
      " |      DoughFactory\n",
      " |      builtins.object\n",
      " |  \n",
      " |  Methods inherited from Pizza:\n",
      " |  \n",
      " |  order_pizza(self, *toppings)\n",
      " |  \n",
      " |  ----------------------------------------------------------------------\n",
      " |  Methods inherited from OrganicDoughFactory:\n",
      " |  \n",
      " |  get_dough(self)\n",
      " |  \n",
      " |  ----------------------------------------------------------------------\n",
      " |  Data descriptors inherited from DoughFactory:\n",
      " |  \n",
      " |  __dict__\n",
      " |      dictionary for instance variables (if defined)\n",
      " |  \n",
      " |  __weakref__\n",
      " |      list of weak references to the object (if defined)\n",
      "\n"
     ]
    }
   ],
   "source": [
    "help(my_organic_pizza)"
   ]
  },
  {
   "cell_type": "markdown",
   "metadata": {},
   "source": [
    "# Composition"
   ]
  },
  {
   "cell_type": "markdown",
   "metadata": {},
   "source": [
    "The 'is a' vs 'has a' distinction notwithstanding, favor Composition over Inheritance\n",
    "\n",
    "https://en.wikipedia.org/wiki/Composition_over_inheritance"
   ]
  },
  {
   "cell_type": "code",
   "execution_count": 21,
   "metadata": {
    "collapsed": true
   },
   "outputs": [],
   "source": [
    "class Other(object):\n",
    "    \n",
    "    def __init__(self):\n",
    "        print(\"In Other __init__() Oh yeah\")\n",
    "        \n",
    "    def override(self):\n",
    "        print(\"Other override()\")\n",
    "        \n",
    "    def implicit(self):\n",
    "        print(\"Other implicit()\")\n",
    "        \n",
    "    def altered(self):\n",
    "        print(\"Other altered()\")"
   ]
  },
  {
   "cell_type": "code",
   "execution_count": 22,
   "metadata": {
    "collapsed": true
   },
   "outputs": [],
   "source": [
    "class MyComposedClass(object):\n",
    "    \n",
    "    def __init__(self):\n",
    "        self.other = Other()  # I contain other!\n",
    "\n",
    "    def override(self):\n",
    "        ''' I do all the work myself '''\n",
    "        print(\"MyComposedClass override()\")\n",
    "        \n",
    "    def implicit(self):\n",
    "        ''' I do nothing myself, I delegate '''\n",
    "        self.other.implicit()\n",
    "        \n",
    "    def altered(self):\n",
    "        ''' I do some work myself and also delegate '''\n",
    "        print(\"MyComposedClass, BEFORE OTHER altered()\")\n",
    "        self.other.altered()\n",
    "        print(\"MyComposedClass, AFTER OTHER altered()\")"
   ]
  },
  {
   "cell_type": "code",
   "execution_count": 23,
   "metadata": {
    "collapsed": false
   },
   "outputs": [
    {
     "name": "stdout",
     "output_type": "stream",
     "text": [
      "In Other __init__() Oh yeah\n"
     ]
    }
   ],
   "source": [
    "my_composed_class = MyComposedClass()"
   ]
  },
  {
   "cell_type": "code",
   "execution_count": 24,
   "metadata": {
    "collapsed": false
   },
   "outputs": [
    {
     "name": "stdout",
     "output_type": "stream",
     "text": [
      "MyComposedClass override()\n"
     ]
    }
   ],
   "source": [
    "my_composed_class.override()"
   ]
  },
  {
   "cell_type": "code",
   "execution_count": 25,
   "metadata": {
    "collapsed": false
   },
   "outputs": [
    {
     "name": "stdout",
     "output_type": "stream",
     "text": [
      "Other implicit()\n"
     ]
    }
   ],
   "source": [
    "my_composed_class.implicit()"
   ]
  },
  {
   "cell_type": "code",
   "execution_count": 26,
   "metadata": {
    "collapsed": false
   },
   "outputs": [
    {
     "name": "stdout",
     "output_type": "stream",
     "text": [
      "MyComposedClass, BEFORE OTHER altered()\n",
      "Other altered()\n",
      "MyComposedClass, AFTER OTHER altered()\n"
     ]
    }
   ],
   "source": [
    "my_composed_class.altered()"
   ]
  },
  {
   "cell_type": "code",
   "execution_count": null,
   "metadata": {
    "collapsed": true
   },
   "outputs": [],
   "source": []
  }
 ],
 "metadata": {
  "kernelspec": {
   "display_name": "Python 3",
   "language": "python",
   "name": "python3"
  },
  "language_info": {
   "codemirror_mode": {
    "name": "ipython",
    "version": 3
   },
   "file_extension": ".py",
   "mimetype": "text/x-python",
   "name": "python",
   "nbconvert_exporter": "python",
   "pygments_lexer": "ipython3",
   "version": "3.6.0"
  }
 },
 "nbformat": 4,
 "nbformat_minor": 1
}
