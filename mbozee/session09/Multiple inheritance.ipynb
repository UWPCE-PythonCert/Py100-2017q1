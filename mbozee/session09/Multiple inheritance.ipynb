{
 "cells": [
  {
   "cell_type": "code",
   "execution_count": 10,
   "metadata": {
    "collapsed": true
   },
   "outputs": [],
   "source": [
    "class DoughFactory:\n",
    "    \n",
    "    def get_dough(self):\n",
    "        return \"inseticide treated wheat dough\""
   ]
  },
  {
   "cell_type": "code",
   "execution_count": 11,
   "metadata": {
    "collapsed": false
   },
   "outputs": [],
   "source": [
    "class Pizza(DoughFactory):\n",
    "    \n",
    "    def order_pizza(self, *toppings):\n",
    "        print(\"Getting dough\")\n",
    "        \n",
    "        dough = DoughFactory.get_dough(self)\n",
    "        \n",
    "        print(\"Making pizza with {}\".format(dough))\n",
    "        \n",
    "        for topping in toppings:\n",
    "            print(\"Adding {}\".format(topping))"
   ]
  },
  {
   "cell_type": "code",
   "execution_count": 12,
   "metadata": {
    "collapsed": true
   },
   "outputs": [],
   "source": [
    "my_pizza = Pizza()"
   ]
  },
  {
   "cell_type": "code",
   "execution_count": 13,
   "metadata": {
    "collapsed": false
   },
   "outputs": [
    {
     "name": "stdout",
     "output_type": "stream",
     "text": [
      "Getting dough\n",
      "Making pizza with inseticide treated wheat dough\n",
      "Adding pepperoni\n",
      "Adding cats\n"
     ]
    }
   ],
   "source": [
    "my_pizza.order_pizza(\"pepperoni\", \"cats\")"
   ]
  },
  {
   "cell_type": "code",
   "execution_count": 16,
   "metadata": {
    "collapsed": true
   },
   "outputs": [],
   "source": [
    "class Pizza(DoughFactory):\n",
    "    \n",
    "    def order_pizza(self, *toppings):\n",
    "        print(\"Getting dough\")\n",
    "        \n",
    "        dough = super().get_dough()\n",
    "        \n",
    "        print(\"Making pizza with {}\".format(dough))\n",
    "        \n",
    "        for topping in toppings:\n",
    "            print(\"Adding {}\".format(topping))"
   ]
  },
  {
   "cell_type": "code",
   "execution_count": 17,
   "metadata": {
    "collapsed": true
   },
   "outputs": [],
   "source": [
    "my_pizza = Pizza()"
   ]
  },
  {
   "cell_type": "code",
   "execution_count": 18,
   "metadata": {
    "collapsed": false
   },
   "outputs": [
    {
     "name": "stdout",
     "output_type": "stream",
     "text": [
      "Getting dough\n",
      "Making pizza with inseticide treated wheat dough\n",
      "Adding pepperoni\n",
      "Adding cats\n"
     ]
    }
   ],
   "source": [
    "my_pizza.order_pizza(\"pepperoni\", \"cats\")"
   ]
  },
  {
   "cell_type": "code",
   "execution_count": 20,
   "metadata": {
    "collapsed": true
   },
   "outputs": [],
   "source": [
    "class OrganicDoughFactory(DoughFactory):\n",
    "    def get_dough(self):\n",
    "        return \"organic, untreated dough\""
   ]
  },
  {
   "cell_type": "code",
   "execution_count": 21,
   "metadata": {
    "collapsed": true
   },
   "outputs": [],
   "source": [
    "class OrganicPizza(Pizza, OrganicDoughFactory):\n",
    "    pass"
   ]
  },
  {
   "cell_type": "code",
   "execution_count": 22,
   "metadata": {
    "collapsed": true
   },
   "outputs": [],
   "source": [
    "my_organic_pizza = OrganicPizza()"
   ]
  },
  {
   "cell_type": "code",
   "execution_count": 23,
   "metadata": {
    "collapsed": false
   },
   "outputs": [
    {
     "name": "stdout",
     "output_type": "stream",
     "text": [
      "Getting dough\n",
      "Making pizza with organic, untreated dough\n",
      "Adding onions\n",
      "Adding bananas\n"
     ]
    }
   ],
   "source": [
    "my_organic_pizza.order_pizza(\"onions\", \"bananas\")"
   ]
  },
  {
   "cell_type": "code",
   "execution_count": 24,
   "metadata": {
    "collapsed": false
   },
   "outputs": [
    {
     "name": "stdout",
     "output_type": "stream",
     "text": [
      "Help on OrganicPizza in module __main__ object:\n",
      "\n",
      "class OrganicPizza(Pizza, OrganicDoughFactory)\n",
      " |  Method resolution order:\n",
      " |      OrganicPizza\n",
      " |      Pizza\n",
      " |      OrganicDoughFactory\n",
      " |      DoughFactory\n",
      " |      builtins.object\n",
      " |  \n",
      " |  Methods inherited from Pizza:\n",
      " |  \n",
      " |  order_pizza(self, *toppings)\n",
      " |  \n",
      " |  ----------------------------------------------------------------------\n",
      " |  Methods inherited from OrganicDoughFactory:\n",
      " |  \n",
      " |  get_dough(self)\n",
      " |  \n",
      " |  ----------------------------------------------------------------------\n",
      " |  Data descriptors inherited from DoughFactory:\n",
      " |  \n",
      " |  __dict__\n",
      " |      dictionary for instance variables (if defined)\n",
      " |  \n",
      " |  __weakref__\n",
      " |      list of weak references to the object (if defined)\n",
      "\n"
     ]
    }
   ],
   "source": [
    "help(my_organic_pizza)"
   ]
  },
  {
   "cell_type": "code",
   "execution_count": null,
   "metadata": {
    "collapsed": true
   },
   "outputs": [],
   "source": []
  }
 ],
 "metadata": {
  "kernelspec": {
   "display_name": "Python 3",
   "language": "python",
   "name": "python3"
  },
  "language_info": {
   "codemirror_mode": {
    "name": "ipython",
    "version": 3
   },
   "file_extension": ".py",
   "mimetype": "text/x-python",
   "name": "python",
   "nbconvert_exporter": "python",
   "pygments_lexer": "ipython3",
   "version": "3.4.3"
  }
 },
 "nbformat": 4,
 "nbformat_minor": 2
}
