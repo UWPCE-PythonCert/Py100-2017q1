{
 "cells": [
  {
   "cell_type": "code",
   "execution_count": 11,
   "metadata": {
    "collapsed": true
   },
   "outputs": [],
   "source": [
    "class Other:\n",
    "    \n",
    "    def __init__(self):\n",
    "        print(\"In Other __init__() Oh yeah\")\n",
    "        \n",
    "    def override(self):\n",
    "        print(\"Other override()\")\n",
    "    \n",
    "    def implicit(self):\n",
    "        print(\"Other implicit()\")\n",
    "        \n",
    "    def altered(self):\n",
    "        print(\"Other altered()\")"
   ]
  },
  {
   "cell_type": "code",
   "execution_count": 19,
   "metadata": {
    "collapsed": true
   },
   "outputs": [],
   "source": [
    "class MyComposedClass:\n",
    "    \n",
    "    def __init__(self):\n",
    "        self.other = Other() # I contain other!\n",
    "    \n",
    "    def override(self):\n",
    "        print(\"MyComposedClass override()\")\n",
    "    \n",
    "    def implicit(self):\n",
    "        '''I do nothing myself; I delegate.'''\n",
    "        self.other.implicit()\n",
    "    \n",
    "    def altered(self):\n",
    "        '''I do some work myself, and I also delegate.'''\n",
    "        print(\"MyComposedClass, BEFORE OTHER altered()\")\n",
    "        self.other.altered()\n",
    "        print(\"MyComposedClass, AFTER OTHER altered()\")"
   ]
  },
  {
   "cell_type": "code",
   "execution_count": 20,
   "metadata": {
    "collapsed": false
   },
   "outputs": [
    {
     "name": "stdout",
     "output_type": "stream",
     "text": [
      "In Other __init__() Oh yeah\n"
     ]
    }
   ],
   "source": [
    "my_composed_class = MyComposedClass()"
   ]
  },
  {
   "cell_type": "code",
   "execution_count": 22,
   "metadata": {
    "collapsed": false
   },
   "outputs": [
    {
     "name": "stdout",
     "output_type": "stream",
     "text": [
      "MyComposedClass, BEFORE OTHER altered()\n",
      "Other altered()\n",
      "MyComposedClass, AFTER OTHER altered()\n"
     ]
    }
   ],
   "source": [
    "my_composed_class.altered()"
   ]
  },
  {
   "cell_type": "code",
   "execution_count": null,
   "metadata": {
    "collapsed": true
   },
   "outputs": [],
   "source": []
  },
  {
   "cell_type": "code",
   "execution_count": null,
   "metadata": {
    "collapsed": true
   },
   "outputs": [],
   "source": []
  }
 ],
 "metadata": {
  "kernelspec": {
   "display_name": "Python 3",
   "language": "python",
   "name": "python3"
  },
  "language_info": {
   "codemirror_mode": {
    "name": "ipython",
    "version": 3
   },
   "file_extension": ".py",
   "mimetype": "text/x-python",
   "name": "python",
   "nbconvert_exporter": "python",
   "pygments_lexer": "ipython3",
   "version": "3.4.3"
  }
 },
 "nbformat": 4,
 "nbformat_minor": 2
}
