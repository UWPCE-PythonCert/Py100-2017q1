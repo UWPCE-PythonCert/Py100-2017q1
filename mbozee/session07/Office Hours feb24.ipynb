{
 "cells": [
  {
   "cell_type": "markdown",
   "metadata": {},
   "source": [
    "mailroom --> think in terms of models when building classes\n",
    "\n",
    "models = dsl (domain specific l...)\n",
    "\n",
    "entity relationships, etc --> what are the objects we have in mailroom already (donor, report, donation amounts --> each could be an object/class)\n",
    "mailroom --> does def thank_you belong in donor class?, etc\n",
    "\n",
    "donor collection class\n",
    "\n",
    "mailroom as a startup w/ clients --> think like this\n",
    "collection of donors for each clinet, etc -- crm startup\n",
    "allow clients to run reports, etc --> class heirarchy (but don't do this yet)\n",
    "\n",
    "(erd vs orm --> use orm --> object role model --> good for oop --> but not only way)\n",
    "\n",
    "what domains are good to model in orm? --> object role modeling\n",
    "erd --> enitiy relation daigram\n",
    "https://www.google.com/webhp?sourceid=chrome-instant&ion=1&espv=2&ie=UTF-8#q=erd+vs+orm&*\n",
    "\n",
    "object relationship impedance problem (diff thinking b/w oop and db)\n",
    "\n",
    "ZODB --> db\n",
    "https://en.wikipedia.org/wiki/Zope_Object_Database\n",
    "\n",
    "oop works well for GUIs and VR\n",
    "\n",
    "in python, everything's a dict/list\n",
    "\n",
    "in lisp, everything's a list\n",
    "\n",
    "maps in lisp = dicts in python\n",
    "vectors in list = array like\n",
    "\n",
    "see randy's code for static method --> has access to a method that doesn't need to be associated w/ a class\n",
    "\n",
    "mailroom --> erd --> CRUD --> REST APIs\n",
    "\n",
    "pickle can save data during and after closing program\n",
    "\n",
    "mailroom in db --> sqlite is built into pythong/easy to use --> do sooner rather than later\n",
    "--> skip using file-based storage, and skip right to db --> new row for every donation, don't append\n",
    "\n",
    "randy's code:\n",
    "https://github.com/UWPCE-PythonCert/Py100-2017q1/pull/75/commits/a42d74fd80ad9e78c6007c06b0f174fa61cf274e\n",
    "CRUD for .txt file and uses staticmethod decorator\n",
    "\n"
   ]
  },
  {
   "cell_type": "markdown",
   "metadata": {},
   "source": [
    "wes mckenley -- data analysis w/ python book -- guy who made pandas"
   ]
  },
  {
   "cell_type": "code",
   "execution_count": null,
   "metadata": {
    "collapsed": true
   },
   "outputs": [],
   "source": []
  }
 ],
 "metadata": {
  "kernelspec": {
   "display_name": "Python 3",
   "language": "python",
   "name": "python3"
  },
  "language_info": {
   "codemirror_mode": {
    "name": "ipython",
    "version": 3
   },
   "file_extension": ".py",
   "mimetype": "text/x-python",
   "name": "python",
   "nbconvert_exporter": "python",
   "pygments_lexer": "ipython3",
   "version": "3.4.3"
  }
 },
 "nbformat": 4,
 "nbformat_minor": 2
}
